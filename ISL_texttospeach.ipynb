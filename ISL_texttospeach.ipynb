{
 "cells": [
  {
   "cell_type": "code",
   "execution_count": 11,
   "id": "dafe05bf",
   "metadata": {},
   "outputs": [],
   "source": [
    "import cv2\n",
    "from keras.models import load_model\n",
    "from keras.preprocessing.image import load_img, img_to_array\n",
    "import numpy as np\n",
    "import tensorflow as tf\n",
    "import keras"
   ]
  },
  {
   "cell_type": "code",
   "execution_count": 12,
   "id": "9ebc0b31",
   "metadata": {},
   "outputs": [],
   "source": [
    "model = keras.models.load_model(\"isl_classifier.h5\")"
   ]
  },
  {
   "cell_type": "code",
   "execution_count": 37,
   "id": "08399baf",
   "metadata": {},
   "outputs": [],
   "source": [
    "labels_dict = {0:'1', \n",
    "                 1:'2', \n",
    "                 2:'3', \n",
    "                 3:'4', \n",
    "                 4:'5', \n",
    "                 5:'6',\n",
    "                 6:'7',\n",
    "                 7:'8',\n",
    "                 8:'9',\n",
    "                 9:'A',\n",
    "                 10:'B',\n",
    "                 11:'C',\n",
    "                 12:'D',\n",
    "                 13:'E',\n",
    "                 14:'F',\n",
    "                 15:'G',\n",
    "                 16:'H',\n",
    "                 17:\"I\",\n",
    "                 18:'J',\n",
    "                 19:'K',\n",
    "                 20:'L', \n",
    "                 21:'M', \n",
    "                 22:'N',\n",
    "                 23:'O',\n",
    "                 24:'P',\n",
    "                 25:'Q',\n",
    "                 26:'R',\n",
    "                 27:'S',\n",
    "                 28:'T',\n",
    "                 29:'U',\n",
    "                 30:'V',\n",
    "                 31:'W',\n",
    "                 32:'X',\n",
    "                 33:'Y',\n",
    "                 34:'Z'}\n",
    "color_dict=(0,255,0)\n",
    "x=0\n",
    "y=0\n",
    "w=64\n",
    "h=64"
   ]
  },
  {
   "cell_type": "code",
   "execution_count": 60,
   "id": "71611a26",
   "metadata": {},
   "outputs": [
    {
     "name": "stdout",
     "output_type": "stream",
     "text": [
      "tf.Tensor([15], shape=(1,), dtype=int64)\n",
      "tf.Tensor([23], shape=(1,), dtype=int64)\n",
      "tf.Tensor([23], shape=(1,), dtype=int64)\n",
      "tf.Tensor([12], shape=(1,), dtype=int64)\n",
      "tf.Tensor([21], shape=(1,), dtype=int64)\n",
      "tf.Tensor([23], shape=(1,), dtype=int64)\n",
      "tf.Tensor([26], shape=(1,), dtype=int64)\n",
      "tf.Tensor([22], shape=(1,), dtype=int64)\n",
      "tf.Tensor([17], shape=(1,), dtype=int64)\n",
      "tf.Tensor([22], shape=(1,), dtype=int64)\n",
      "tf.Tensor([15], shape=(1,), dtype=int64)\n",
      " GOODMORNING\n"
     ]
    },
    {
     "data": {
      "text/plain": [
       "0"
      ]
     },
     "execution_count": 60,
     "metadata": {},
     "output_type": "execute_result"
    }
   ],
   "source": [
    "import os\n",
    "img_size=128\n",
    "minValue = 70\n",
    "img_size=128\n",
    "minValue = 70\n",
    "count1 = 0\n",
    "im_count = 1\n",
    "data = []\n",
    "target = []\n",
    "d = r\"C:\\Users\\suren\\DSPProject\\Validation\\GoodMorning\"\n",
    "for path in os.listdir(d):\n",
    "    if os.path.isfile(os.path.join(d, path)):\n",
    "        count1 += 1\n",
    "string = \" \"\n",
    "count = 0\n",
    "prev = \" \"\n",
    "prev_val = 0\n",
    "\n",
    "im_count = 1\n",
    "while(count1!=0):\n",
    "    di = d\n",
    "    di1 = di + \"/\" + str(im_count) + \".jpg \"\n",
    "    count1= count1-1\n",
    "    im_count = im_count+1\n",
    "    img = cv2.imread(di1)\n",
    "    gray=cv2.cvtColor(img,cv2.COLOR_BGR2GRAY)\n",
    "    blur = cv2.GaussianBlur(gray,(5,5),2)\n",
    "    th3 = cv2.adaptiveThreshold(blur,255,cv2.ADAPTIVE_THRESH_GAUSSIAN_C,cv2.THRESH_BINARY_INV,11,2)\n",
    "    ret, res = cv2.threshold(th3, minValue, 255, cv2.THRESH_BINARY_INV+cv2.THRESH_OTSU)\n",
    "    resized=cv2.resize(res,(img_size,img_size))\n",
    "    normalized=resized/255.0\n",
    "    reshaped=np.reshape(normalized,(1,img_size,img_size,1))\n",
    "    data.append(resized)\n",
    "    result = model.predict(reshaped)\n",
    "    print(tf.argmax(result,1))\n",
    "    label=np.argmax(result,axis=1)[0]\n",
    "    prev= labels_dict[label]\n",
    "    if(label == 0):\n",
    "        string = string + \" \"\n",
    "    else:\n",
    "        string = string + prev\n",
    "\n",
    "print(string)\n",
    "from gtts import gTTS \n",
    "language = 'en'\n",
    "myobj = gTTS(text=string, lang=language, slow=False) \n",
    "myobj.save(\"texttospeech.mp3\") \n",
    "os.system(\"texttospeech.mp3\")"
   ]
  },
  {
   "cell_type": "code",
   "execution_count": 43,
   "id": "94b8a871",
   "metadata": {},
   "outputs": [
    {
     "data": {
      "text/plain": [
       "(11, 128, 128)"
      ]
     },
     "execution_count": 43,
     "metadata": {},
     "output_type": "execute_result"
    }
   ],
   "source": [
    "datanp=np.array(data)\n",
    "target = np.load(r\"C:\\Users\\suren\\DSPProject\\target.npy\")\n",
    "datanp.shape"
   ]
  },
  {
   "cell_type": "code",
   "execution_count": 46,
   "id": "77455b10",
   "metadata": {},
   "outputs": [
    {
     "name": "stdout",
     "output_type": "stream",
     "text": [
      "(35280, 35)\n"
     ]
    }
   ],
   "source": [
    "data=np.array(data)/255.0\n",
    "data=np.reshape(data,(data.shape[0],img_size,img_size,1))\n",
    "target=np.array(target)\n",
    "print(target.shape)\n",
    "\n",
    "from keras.utils import np_utils\n",
    "\n",
    "new_target=np_utils.to_categorical(target)"
   ]
  },
  {
   "cell_type": "code",
   "execution_count": 45,
   "id": "1be9bb99",
   "metadata": {},
   "outputs": [
    {
     "data": {
      "text/plain": [
       "(35280, 35, 2)"
      ]
     },
     "execution_count": 45,
     "metadata": {},
     "output_type": "execute_result"
    }
   ],
   "source": [
    "new_target.shape"
   ]
  },
  {
   "cell_type": "code",
   "execution_count": 47,
   "id": "c6da7afa",
   "metadata": {},
   "outputs": [],
   "source": [
    "np.save('test_img',data)\n",
    "np.save('testtarget',new_target)"
   ]
  },
  {
   "cell_type": "code",
   "execution_count": 50,
   "id": "d4da393d",
   "metadata": {},
   "outputs": [],
   "source": [
    "data=np.load('test_img.npy')\n",
    "target=np.load('testtarget.npy')"
   ]
  },
  {
   "cell_type": "code",
   "execution_count": 15,
   "id": "24aad7bd",
   "metadata": {},
   "outputs": [
    {
     "data": {
      "text/plain": [
       "0"
      ]
     },
     "execution_count": 15,
     "metadata": {},
     "output_type": "execute_result"
    }
   ],
   "source": [
    "from gtts import gTTS \n",
    "language = 'en'\n",
    "myobj = gTTS(text=string, lang=language, slow=False) \n",
    "myobj.save(\"texttospeech.mp3\") \n",
    "os.system(\"texttospeech.mp3\")"
   ]
  },
  {
   "cell_type": "code",
   "execution_count": 1,
   "id": "e4ff63ed",
   "metadata": {},
   "outputs": [],
   "source": [
    "import matplotlib.pyplot as plt\n",
    "import numpy as np\n",
    "import wave\n",
    "import sys"
   ]
  },
  {
   "cell_type": "code",
   "execution_count": 16,
   "id": "8b519ecc",
   "metadata": {},
   "outputs": [],
   "source": [
    "raw = wave.open(r\"C:\\Users\\suren\\DSPProject\\texttospeech.wav\")"
   ]
  },
  {
   "cell_type": "code",
   "execution_count": 17,
   "id": "2a73b5b6",
   "metadata": {},
   "outputs": [
    {
     "data": {
      "image/png": "[encoded data removed]",
      "text/plain": [
       "<Figure size 432x288 with 1 Axes>"
      ]
     },
     "metadata": {
      "needs_background": "light"
     },
     "output_type": "display_data"
    }
   ],
   "source": [
    "signal = raw.readframes(-1)\n",
    "signal = np.frombuffer(signal, dtype =\"int16\")\n",
    "f_rate = raw.getframerate()\n",
    "time = np.linspace(\n",
    "        0, # start\n",
    "        len(signal) / f_rate,\n",
    "        num = len(signal)\n",
    "    )\n",
    "plt.figure(1)\n",
    "plt.title(\"Output\")\n",
    "plt.xlabel(\"Time\")\n",
    "plt.plot(time, signal)\n",
    "plt.show()"
   ]
  },
  {
   "cell_type": "code",
   "execution_count": 51,
   "id": "671e2efa",
   "metadata": {},
   "outputs": [],
   "source": [
    "y_pred = model.predict(data)"
   ]
  },
  {
   "cell_type": "code",
   "execution_count": 52,
   "id": "f75a9141",
   "metadata": {},
   "outputs": [
    {
     "data": {
      "text/plain": [
       "array([[7.4027889e-07, 4.9115588e-06, 1.7193142e-07, 1.1463270e-06,\n",
       "        1.5511771e-04, 1.7188542e-08, 9.2256072e-05, 4.1595502e-08,\n",
       "        3.3401701e-08, 3.1081021e-07, 1.2119230e-05, 2.3008636e-04,\n",
       "        2.6756735e-04, 4.0643072e-01, 5.3703036e-05, 1.7968244e-06,\n",
       "        3.9257418e-02, 2.1377627e-07, 4.6643596e-02, 1.6296834e-04,\n",
       "        2.4498520e-05, 1.2581718e-04, 8.0125952e-05, 6.0674473e-08,\n",
       "        2.2045514e-04, 3.0682964e-05, 5.5501070e-03, 1.1346114e-02,\n",
       "        4.8929828e-01, 4.4951062e-06, 3.3668940e-08, 1.9454049e-07,\n",
       "        1.2088266e-06, 2.7111946e-06, 2.5205344e-07],\n",
       "       [7.4027889e-07, 4.9115588e-06, 1.7193142e-07, 1.1463270e-06,\n",
       "        1.5511771e-04, 1.7188542e-08, 9.2256072e-05, 4.1595502e-08,\n",
       "        3.3401701e-08, 3.1081021e-07, 1.2119230e-05, 2.3008636e-04,\n",
       "        2.6756735e-04, 4.0643072e-01, 5.3703036e-05, 1.7968244e-06,\n",
       "        3.9257418e-02, 2.1377627e-07, 4.6643596e-02, 1.6296834e-04,\n",
       "        2.4498520e-05, 1.2581718e-04, 8.0125952e-05, 6.0674473e-08,\n",
       "        2.2045514e-04, 3.0682964e-05, 5.5501070e-03, 1.1346114e-02,\n",
       "        4.8929828e-01, 4.4951062e-06, 3.3668940e-08, 1.9454049e-07,\n",
       "        1.2088266e-06, 2.7111946e-06, 2.5205344e-07],\n",
       "       [7.4027889e-07, 4.9115588e-06, 1.7193142e-07, 1.1463270e-06,\n",
       "        1.5511771e-04, 1.7188542e-08, 9.2256072e-05, 4.1595502e-08,\n",
       "        3.3401701e-08, 3.1081021e-07, 1.2119230e-05, 2.3008636e-04,\n",
       "        2.6756735e-04, 4.0643072e-01, 5.3703036e-05, 1.7968244e-06,\n",
       "        3.9257418e-02, 2.1377627e-07, 4.6643596e-02, 1.6296834e-04,\n",
       "        2.4498520e-05, 1.2581718e-04, 8.0125952e-05, 6.0674473e-08,\n",
       "        2.2045514e-04, 3.0682964e-05, 5.5501070e-03, 1.1346114e-02,\n",
       "        4.8929828e-01, 4.4951062e-06, 3.3668940e-08, 1.9454049e-07,\n",
       "        1.2088266e-06, 2.7111946e-06, 2.5205344e-07],\n",
       "       [7.4027889e-07, 4.9115588e-06, 1.7193142e-07, 1.1463270e-06,\n",
       "        1.5511771e-04, 1.7188542e-08, 9.2256072e-05, 4.1595502e-08,\n",
       "        3.3401701e-08, 3.1081021e-07, 1.2119230e-05, 2.3008636e-04,\n",
       "        2.6756735e-04, 4.0643072e-01, 5.3703036e-05, 1.7968244e-06,\n",
       "        3.9257418e-02, 2.1377627e-07, 4.6643596e-02, 1.6296834e-04,\n",
       "        2.4498520e-05, 1.2581718e-04, 8.0125952e-05, 6.0674473e-08,\n",
       "        2.2045514e-04, 3.0682964e-05, 5.5501070e-03, 1.1346114e-02,\n",
       "        4.8929828e-01, 4.4951062e-06, 3.3668940e-08, 1.9454049e-07,\n",
       "        1.2088266e-06, 2.7111946e-06, 2.5205344e-07],\n",
       "       [7.4027889e-07, 4.9115588e-06, 1.7193142e-07, 1.1463270e-06,\n",
       "        1.5511771e-04, 1.7188542e-08, 9.2256072e-05, 4.1595502e-08,\n",
       "        3.3401701e-08, 3.1081021e-07, 1.2119230e-05, 2.3008636e-04,\n",
       "        2.6756735e-04, 4.0643072e-01, 5.3703036e-05, 1.7968244e-06,\n",
       "        3.9257418e-02, 2.1377627e-07, 4.6643596e-02, 1.6296834e-04,\n",
       "        2.4498520e-05, 1.2581718e-04, 8.0125952e-05, 6.0674473e-08,\n",
       "        2.2045514e-04, 3.0682964e-05, 5.5501070e-03, 1.1346114e-02,\n",
       "        4.8929828e-01, 4.4951062e-06, 3.3668940e-08, 1.9454049e-07,\n",
       "        1.2088266e-06, 2.7111946e-06, 2.5205344e-07],\n",
       "       [7.4027889e-07, 4.9115588e-06, 1.7193142e-07, 1.1463270e-06,\n",
       "        1.5511771e-04, 1.7188542e-08, 9.2256072e-05, 4.1595502e-08,\n",
       "        3.3401701e-08, 3.1081021e-07, 1.2119230e-05, 2.3008636e-04,\n",
       "        2.6756735e-04, 4.0643072e-01, 5.3703036e-05, 1.7968244e-06,\n",
       "        3.9257418e-02, 2.1377627e-07, 4.6643596e-02, 1.6296834e-04,\n",
       "        2.4498520e-05, 1.2581718e-04, 8.0125952e-05, 6.0674473e-08,\n",
       "        2.2045514e-04, 3.0682964e-05, 5.5501070e-03, 1.1346114e-02,\n",
       "        4.8929828e-01, 4.4951062e-06, 3.3668940e-08, 1.9454049e-07,\n",
       "        1.2088266e-06, 2.7111946e-06, 2.5205344e-07],\n",
       "       [7.4027889e-07, 4.9115588e-06, 1.7193142e-07, 1.1463270e-06,\n",
       "        1.5511771e-04, 1.7188542e-08, 9.2256072e-05, 4.1595502e-08,\n",
       "        3.3401701e-08, 3.1081021e-07, 1.2119230e-05, 2.3008636e-04,\n",
       "        2.6756735e-04, 4.0643072e-01, 5.3703036e-05, 1.7968244e-06,\n",
       "        3.9257418e-02, 2.1377627e-07, 4.6643596e-02, 1.6296834e-04,\n",
       "        2.4498520e-05, 1.2581718e-04, 8.0125952e-05, 6.0674473e-08,\n",
       "        2.2045514e-04, 3.0682964e-05, 5.5501070e-03, 1.1346114e-02,\n",
       "        4.8929828e-01, 4.4951062e-06, 3.3668940e-08, 1.9454049e-07,\n",
       "        1.2088266e-06, 2.7111946e-06, 2.5205344e-07],\n",
       "       [7.4027889e-07, 4.9115588e-06, 1.7193142e-07, 1.1463270e-06,\n",
       "        1.5511771e-04, 1.7188542e-08, 9.2256072e-05, 4.1595502e-08,\n",
       "        3.3401701e-08, 3.1081021e-07, 1.2119230e-05, 2.3008636e-04,\n",
       "        2.6756735e-04, 4.0643072e-01, 5.3703036e-05, 1.7968244e-06,\n",
       "        3.9257418e-02, 2.1377627e-07, 4.6643596e-02, 1.6296834e-04,\n",
       "        2.4498520e-05, 1.2581718e-04, 8.0125952e-05, 6.0674473e-08,\n",
       "        2.2045514e-04, 3.0682964e-05, 5.5501070e-03, 1.1346114e-02,\n",
       "        4.8929828e-01, 4.4951062e-06, 3.3668940e-08, 1.9454049e-07,\n",
       "        1.2088266e-06, 2.7111946e-06, 2.5205344e-07],\n",
       "       [7.4027889e-07, 4.9115588e-06, 1.7193142e-07, 1.1463270e-06,\n",
       "        1.5511771e-04, 1.7188542e-08, 9.2256072e-05, 4.1595502e-08,\n",
       "        3.3401701e-08, 3.1081021e-07, 1.2119230e-05, 2.3008636e-04,\n",
       "        2.6756735e-04, 4.0643072e-01, 5.3703036e-05, 1.7968244e-06,\n",
       "        3.9257418e-02, 2.1377627e-07, 4.6643596e-02, 1.6296834e-04,\n",
       "        2.4498520e-05, 1.2581718e-04, 8.0125952e-05, 6.0674473e-08,\n",
       "        2.2045514e-04, 3.0682964e-05, 5.5501070e-03, 1.1346114e-02,\n",
       "        4.8929828e-01, 4.4951062e-06, 3.3668940e-08, 1.9454049e-07,\n",
       "        1.2088266e-06, 2.7111946e-06, 2.5205344e-07],\n",
       "       [7.4027889e-07, 4.9115588e-06, 1.7193142e-07, 1.1463270e-06,\n",
       "        1.5511771e-04, 1.7188542e-08, 9.2256072e-05, 4.1595502e-08,\n",
       "        3.3401701e-08, 3.1081021e-07, 1.2119230e-05, 2.3008636e-04,\n",
       "        2.6756735e-04, 4.0643072e-01, 5.3703036e-05, 1.7968244e-06,\n",
       "        3.9257418e-02, 2.1377627e-07, 4.6643596e-02, 1.6296834e-04,\n",
       "        2.4498520e-05, 1.2581718e-04, 8.0125952e-05, 6.0674473e-08,\n",
       "        2.2045514e-04, 3.0682964e-05, 5.5501070e-03, 1.1346114e-02,\n",
       "        4.8929828e-01, 4.4951062e-06, 3.3668940e-08, 1.9454049e-07,\n",
       "        1.2088266e-06, 2.7111946e-06, 2.5205344e-07],\n",
       "       [7.4027889e-07, 4.9115588e-06, 1.7193142e-07, 1.1463270e-06,\n",
       "        1.5511771e-04, 1.7188542e-08, 9.2256072e-05, 4.1595502e-08,\n",
       "        3.3401701e-08, 3.1081021e-07, 1.2119230e-05, 2.3008636e-04,\n",
       "        2.6756735e-04, 4.0643072e-01, 5.3703036e-05, 1.7968244e-06,\n",
       "        3.9257418e-02, 2.1377627e-07, 4.6643596e-02, 1.6296834e-04,\n",
       "        2.4498520e-05, 1.2581718e-04, 8.0125952e-05, 6.0674473e-08,\n",
       "        2.2045514e-04, 3.0682964e-05, 5.5501070e-03, 1.1346114e-02,\n",
       "        4.8929828e-01, 4.4951062e-06, 3.3668940e-08, 1.9454049e-07,\n",
       "        1.2088266e-06, 2.7111946e-06, 2.5205344e-07]], dtype=float32)"
      ]
     },
     "execution_count": 52,
     "metadata": {},
     "output_type": "execute_result"
    }
   ],
   "source": [
    "y_pred"
   ]
  },
  {
   "cell_type": "code",
   "execution_count": 54,
   "id": "d20958d6",
   "metadata": {},
   "outputs": [
    {
     "ename": "InvalidArgumentError",
     "evalue": "Shapes of all inputs must match: values[0].shape = [35280,2] != values[1].shape = [11] [Op:Pack] name: stack",
     "output_type": "error",
     "traceback": [
      "\u001b[1;31m---------------------------------------------------------------------------\u001b[0m",
      "\u001b[1;31mInvalidArgumentError\u001b[0m                      Traceback (most recent call last)",
      "\u001b[1;32m~\\AppData\\Local\\Temp/ipykernel_14308/3744118278.py\u001b[0m in \u001b[0;36m<module>\u001b[1;34m\u001b[0m\n\u001b[0;32m      1\u001b[0m \u001b[1;32mimport\u001b[0m \u001b[0mtensorflow\u001b[0m \u001b[1;32mas\u001b[0m \u001b[0mtf\u001b[0m\u001b[1;33m\u001b[0m\u001b[1;33m\u001b[0m\u001b[0m\n\u001b[1;32m----> 2\u001b[1;33m \u001b[0mcon_mat\u001b[0m \u001b[1;33m=\u001b[0m \u001b[0mtf\u001b[0m\u001b[1;33m.\u001b[0m\u001b[0mmath\u001b[0m\u001b[1;33m.\u001b[0m\u001b[0mconfusion_matrix\u001b[0m\u001b[1;33m(\u001b[0m\u001b[0mlabels\u001b[0m\u001b[1;33m=\u001b[0m\u001b[0mtf\u001b[0m\u001b[1;33m.\u001b[0m\u001b[0margmax\u001b[0m\u001b[1;33m(\u001b[0m\u001b[0mtarget\u001b[0m\u001b[1;33m,\u001b[0m\u001b[1;36m1\u001b[0m\u001b[1;33m)\u001b[0m\u001b[1;33m,\u001b[0m \u001b[0mpredictions\u001b[0m\u001b[1;33m=\u001b[0m\u001b[0mtf\u001b[0m\u001b[1;33m.\u001b[0m\u001b[0margmax\u001b[0m\u001b[1;33m(\u001b[0m\u001b[0my_pred\u001b[0m\u001b[1;33m,\u001b[0m\u001b[1;36m1\u001b[0m\u001b[1;33m)\u001b[0m\u001b[1;33m)\u001b[0m\u001b[1;33m.\u001b[0m\u001b[0mnumpy\u001b[0m\u001b[1;33m(\u001b[0m\u001b[1;33m)\u001b[0m\u001b[1;33m\u001b[0m\u001b[1;33m\u001b[0m\u001b[0m\n\u001b[0m",
      "\u001b[1;32m~\\anaconda3\\envs\\DSPProject\\lib\\site-packages\\tensorflow\\python\\util\\traceback_utils.py\u001b[0m in \u001b[0;36merror_handler\u001b[1;34m(*args, **kwargs)\u001b[0m\n\u001b[0;32m    151\u001b[0m     \u001b[1;32mexcept\u001b[0m \u001b[0mException\u001b[0m \u001b[1;32mas\u001b[0m \u001b[0me\u001b[0m\u001b[1;33m:\u001b[0m\u001b[1;33m\u001b[0m\u001b[1;33m\u001b[0m\u001b[0m\n\u001b[0;32m    152\u001b[0m       \u001b[0mfiltered_tb\u001b[0m \u001b[1;33m=\u001b[0m \u001b[0m_process_traceback_frames\u001b[0m\u001b[1;33m(\u001b[0m\u001b[0me\u001b[0m\u001b[1;33m.\u001b[0m\u001b[0m__traceback__\u001b[0m\u001b[1;33m)\u001b[0m\u001b[1;33m\u001b[0m\u001b[1;33m\u001b[0m\u001b[0m\n\u001b[1;32m--> 153\u001b[1;33m       \u001b[1;32mraise\u001b[0m \u001b[0me\u001b[0m\u001b[1;33m.\u001b[0m\u001b[0mwith_traceback\u001b[0m\u001b[1;33m(\u001b[0m\u001b[0mfiltered_tb\u001b[0m\u001b[1;33m)\u001b[0m \u001b[1;32mfrom\u001b[0m \u001b[1;32mNone\u001b[0m\u001b[1;33m\u001b[0m\u001b[1;33m\u001b[0m\u001b[0m\n\u001b[0m\u001b[0;32m    154\u001b[0m     \u001b[1;32mfinally\u001b[0m\u001b[1;33m:\u001b[0m\u001b[1;33m\u001b[0m\u001b[1;33m\u001b[0m\u001b[0m\n\u001b[0;32m    155\u001b[0m       \u001b[1;32mdel\u001b[0m \u001b[0mfiltered_tb\u001b[0m\u001b[1;33m\u001b[0m\u001b[1;33m\u001b[0m\u001b[0m\n",
      "\u001b[1;32m~\\anaconda3\\envs\\DSPProject\\lib\\site-packages\\tensorflow\\python\\framework\\ops.py\u001b[0m in \u001b[0;36mraise_from_not_ok_status\u001b[1;34m(e, name)\u001b[0m\n\u001b[0;32m   7105\u001b[0m \u001b[1;32mdef\u001b[0m \u001b[0mraise_from_not_ok_status\u001b[0m\u001b[1;33m(\u001b[0m\u001b[0me\u001b[0m\u001b[1;33m,\u001b[0m \u001b[0mname\u001b[0m\u001b[1;33m)\u001b[0m\u001b[1;33m:\u001b[0m\u001b[1;33m\u001b[0m\u001b[1;33m\u001b[0m\u001b[0m\n\u001b[0;32m   7106\u001b[0m   \u001b[0me\u001b[0m\u001b[1;33m.\u001b[0m\u001b[0mmessage\u001b[0m \u001b[1;33m+=\u001b[0m \u001b[1;33m(\u001b[0m\u001b[1;34m\" name: \"\u001b[0m \u001b[1;33m+\u001b[0m \u001b[0mname\u001b[0m \u001b[1;32mif\u001b[0m \u001b[0mname\u001b[0m \u001b[1;32mis\u001b[0m \u001b[1;32mnot\u001b[0m \u001b[1;32mNone\u001b[0m \u001b[1;32melse\u001b[0m \u001b[1;34m\"\"\u001b[0m\u001b[1;33m)\u001b[0m\u001b[1;33m\u001b[0m\u001b[1;33m\u001b[0m\u001b[0m\n\u001b[1;32m-> 7107\u001b[1;33m   \u001b[1;32mraise\u001b[0m \u001b[0mcore\u001b[0m\u001b[1;33m.\u001b[0m\u001b[0m_status_to_exception\u001b[0m\u001b[1;33m(\u001b[0m\u001b[0me\u001b[0m\u001b[1;33m)\u001b[0m \u001b[1;32mfrom\u001b[0m \u001b[1;32mNone\u001b[0m  \u001b[1;31m# pylint: disable=protected-access\u001b[0m\u001b[1;33m\u001b[0m\u001b[1;33m\u001b[0m\u001b[0m\n\u001b[0m\u001b[0;32m   7108\u001b[0m \u001b[1;33m\u001b[0m\u001b[0m\n\u001b[0;32m   7109\u001b[0m \u001b[1;33m\u001b[0m\u001b[0m\n",
      "\u001b[1;31mInvalidArgumentError\u001b[0m: Shapes of all inputs must match: values[0].shape = [35280,2] != values[1].shape = [11] [Op:Pack] name: stack"
     ]
    }
   ],
   "source": [
    "import tensorflow as tf\n",
    "con_mat = tf.math.confusion_matrix(labels=tf.argmax(target,1), predictions=tf.argmax(y_pred,1)).numpy()"
   ]
  },
  {
   "cell_type": "code",
   "execution_count": null,
   "id": "b8be2e2b",
   "metadata": {},
   "outputs": [],
   "source": []
  }
 ],
 "metadata": {
  "kernelspec": {
   "display_name": "Python 3 (ipykernel)",
   "language": "python",
   "name": "python3"
  },
  "language_info": {
   "codemirror_mode": {
    "name": "ipython",
    "version": 3
   },
   "file_extension": ".py",
   "mimetype": "text/x-python",
   "name": "python",
   "nbconvert_exporter": "python",
   "pygments_lexer": "ipython3",
   "version": "3.9.7"
  }
 },
 "nbformat": 4,
 "nbformat_minor": 5
}
